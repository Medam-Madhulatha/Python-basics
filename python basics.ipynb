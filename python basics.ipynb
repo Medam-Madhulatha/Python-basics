{
 "cells": [
  {
   "cell_type": "code",
   "execution_count": 1,
   "id": "788bd5f2-3065-4ead-89d9-ff298dffec3a",
   "metadata": {},
   "outputs": [
    {
     "name": "stdout",
     "output_type": "stream",
     "text": [
      "3 5\n"
     ]
    }
   ],
   "source": [
    "#swapping of two numbers without third variable\n",
    "a=5\n",
    "b=3\n",
    "a,b=b,a\n",
    "print(a,b)"
   ]
  },
  {
   "cell_type": "code",
   "execution_count": 27,
   "id": "30ceac91-7556-48ef-be6b-bafd548271f3",
   "metadata": {},
   "outputs": [
    {
     "name": "stdin",
     "output_type": "stream",
     "text": [
      "Enter numbers separated by space:  4 5\n"
     ]
    },
    {
     "name": "stdout",
     "output_type": "stream",
     "text": [
      "9\n"
     ]
    }
   ],
   "source": [
    "#sum of two numbers\n",
    "n = list(map(int, input(\"Enter numbers separated by space: \").split()))\n",
    "s=0\n",
    "for i in n:\n",
    "    s=s+i\n",
    "print(s)"
   ]
  },
  {
   "cell_type": "code",
   "execution_count": 28,
   "id": "0156a4b9-c8ab-4706-ac5c-73a32d6b7792",
   "metadata": {},
   "outputs": [
    {
     "name": "stdin",
     "output_type": "stream",
     "text": [
      "Enter numbers separated by space:  5 6\n"
     ]
    },
    {
     "name": "stdout",
     "output_type": "stream",
     "text": [
      "30\n"
     ]
    }
   ],
   "source": [
    "### product of two numbers\n",
    "n = list(map(int, input(\"Enter numbers separated by space: \").split()))\n",
    "p=1\n",
    "for i in n:\n",
    "    p*=i\n",
    "print(p)"
   ]
  },
  {
   "cell_type": "code",
   "execution_count": 4,
   "id": "bb5eacff-0927-472d-b2d8-14c18545fc51",
   "metadata": {},
   "outputs": [
    {
     "name": "stdin",
     "output_type": "stream",
     "text": [
      " 5\n"
     ]
    },
    {
     "name": "stdout",
     "output_type": "stream",
     "text": [
      "1\n",
      "2\n",
      "3\n",
      "4\n",
      "5\n"
     ]
    },
    {
     "name": "stdout",
     "output_type": "stream",
     "text": [
      "1\n",
      "2\n",
      "3\n",
      "4\n",
      "5\n"
     ]
    }
   ],
   "source": [
    "#print 1 to n numbers using for loop\n",
    "n=int(input())\n",
    "for i in range(1,n+1):\n",
    "    print(i)\n",
    "# for i in range(1,10):\n",
    "#     print(i)\n",
    "#     i+=1\n",
    "\n",
    "    "
   ]
  },
  {
   "cell_type": "code",
   "execution_count": 1,
   "id": "704f3fa3-99ab-479c-8166-f6ba9087976c",
   "metadata": {},
   "outputs": [
    {
     "name": "stdin",
     "output_type": "stream",
     "text": [
      " 5\n"
     ]
    },
    {
     "name": "stdout",
     "output_type": "stream",
     "text": [
      "5 X 1=5\n",
      "5 X 2=10\n",
      "5 X 3=15\n",
      "5 X 4=20\n",
      "5 X 5=25\n",
      "5 X 6=30\n",
      "5 X 7=35\n",
      "5 X 8=40\n",
      "5 X 9=45\n",
      "5 X 10=50\n"
     ]
    },
    {
     "name": "stdout",
     "output_type": "stream",
     "text": [
      "5 X 1=5\n",
      "5 X 2=10\n",
      "5 X 3=15\n",
      "5 X 4=20\n",
      "5 X 5=25\n",
      "5 X 6=30\n",
      "5 X 7=35\n",
      "5 X 8=40\n",
      "5 X 9=45\n",
      "5 X 10=50\n"
     ]
    }
   ],
   "source": [
    "#Print multiplication table of a number.\n",
    "n=int(input())\n",
    "for i in range(1,11):\n",
    "    print(f\"{n} X {i}={n*i}\")"
   ]
  },
  {
   "cell_type": "code",
   "execution_count": null,
   "id": "73156b29-8b40-492d-8f81-b2d11dc5db25",
   "metadata": {},
   "outputs": [
    {
     "name": "stdout",
     "output_type": "stream",
     "text": [
      "odd\n"
     ]
    }
   ],
   "source": [
    "#Check if a number is even or odd.\n",
    "n=int(input())\n",
    "if n%2==0:\n",
    "    print(\"Even\")\n",
    "else:\n",
    "    print(\"odd\")\n",
    "    "
   ]
  },
  {
   "cell_type": "code",
   "execution_count": 9,
   "id": "04fa369a-0f3c-4bb7-a23f-383cafd0edcb",
   "metadata": {},
   "outputs": [
    {
     "name": "stdin",
     "output_type": "stream",
     "text": [
      " 5\n"
     ]
    },
    {
     "name": "stdout",
     "output_type": "stream",
     "text": [
      "Factorial of 5 is 120\n"
     ]
    }
   ],
   "source": [
    "#Find factorial of a number\n",
    "n=int(input())\n",
    "fact=1\n",
    "for i in range(1,n+1):\n",
    "    fact=fact*i\n",
    "print(f\"Factorial of {n} is {fact}\")"
   ]
  },
  {
   "cell_type": "code",
   "execution_count": 5,
   "id": "3cc47f15-0006-4d31-9b4c-dae672f70f98",
   "metadata": {},
   "outputs": [
    {
     "name": "stdin",
     "output_type": "stream",
     "text": [
      "Enter a number:  2\n"
     ]
    },
    {
     "name": "stdout",
     "output_type": "stream",
     "text": [
      "2 is a prime number\n"
     ]
    }
   ],
   "source": [
    "num = int(input(\"Enter a number: \"))\n",
    "\n",
    "if num > 1:\n",
    "    for i in range(2, num):\n",
    "        if num % i == 0:\n",
    "            print(num, \"is not a prime number\")\n",
    "            break\n",
    "    else:\n",
    "        print(num, \"is a prime number\")\n",
    "else:\n",
    "    print(num, \"is not a prime number\")\n"
   ]
  },
  {
   "cell_type": "code",
   "execution_count": 13,
   "id": "421ac822-9ce3-4329-ab40-82c2b5ff9c17",
   "metadata": {},
   "outputs": [
    {
     "name": "stdin",
     "output_type": "stream",
     "text": [
      " 5\n"
     ]
    },
    {
     "name": "stdout",
     "output_type": "stream",
     "text": [
      "factorial of 5 is 120\n"
     ]
    }
   ],
   "source": [
    "#find factorial of a number using recursion\n",
    "def factorial(n):\n",
    "    if n==0 or n==1:\n",
    "        return 1\n",
    "    else:\n",
    "        return n*factorial(n-1)\n",
    "num=int(input())\n",
    "print(f\"factorial of {num} is {factorial(num)}\")\n",
    "    "
   ]
  },
  {
   "cell_type": "code",
   "execution_count": 6,
   "id": "8f6da031-c039-4334-ba0f-a5df1d886cdf",
   "metadata": {},
   "outputs": [
    {
     "name": "stdout",
     "output_type": "stream",
     "text": [
      "<class 'tuple'>\n",
      "(20, -10)\n",
      "None\n"
     ]
    }
   ],
   "source": [
    "#default arguments\n",
    "def add(a, *argu):\n",
    "    print(type(argu))\n",
    "    print(argu)\n",
    "print(add(10,20,-10))"
   ]
  },
  {
   "cell_type": "code",
   "execution_count": 7,
   "id": "584df7ef-4856-4032-8c90-5b8e34616db3",
   "metadata": {},
   "outputs": [
    {
     "name": "stdout",
     "output_type": "stream",
     "text": [
      "<class 'tuple'>\n",
      "(10, 20, -10)\n",
      "20\n"
     ]
    }
   ],
   "source": [
    "#variable length positional arguments\n",
    "def add(*argu):\n",
    "    print(type(argu))\n",
    "    print(argu)\n",
    "    s=0\n",
    "    for i in range(len(argu)):\n",
    "        s+=argu[i]\n",
    "    return s    \n",
    "print(add(10,20,-10))"
   ]
  },
  {
   "cell_type": "code",
   "execution_count": 11,
   "id": "e4ecd8b4-3e61-4f8d-9673-36c85a9e023b",
   "metadata": {},
   "outputs": [
    {
     "name": "stdin",
     "output_type": "stream",
     "text": [
      " 4\n"
     ]
    },
    {
     "name": "stdout",
     "output_type": "stream",
     "text": [
      "10\n"
     ]
    }
   ],
   "source": [
    "#sum of first n numbers\n",
    "n=int(input())\n",
    "tot=0\n",
    "for i in range(0,n+1):\n",
    "    tot+=i\n",
    "print(tot)"
   ]
  },
  {
   "cell_type": "code",
   "execution_count": null,
   "id": "c06b07bc-7d17-4634-9a31-4a0131965055",
   "metadata": {},
   "outputs": [],
   "source": [
    "#print 1 to n even numbers \n",
    "n=int(input())\n",
    "for i in range(1,n+1):\n",
    "    if i % 2 == 0:\n",
    "        print(i)\n",
    "# n=int(input())\n",
    "# for i in range(0,n,2):\n",
    "#     print(i)"
   ]
  },
  {
   "cell_type": "code",
   "execution_count": null,
   "id": "1b4e8ad4-ad84-48a5-a46f-78d66ac2776d",
   "metadata": {},
   "outputs": [],
   "source": [
    "##### factorial of a number\n",
    "# n=int(input())\n",
    "# fact=1\n",
    "# for i in range(1,n+1):\n",
    "#     fact=fact*i\n",
    "# print(fact)\n",
    "\n",
    "# #using recursion\n",
    "def fact(n):\n",
    "    if n==1 or n==0:\n",
    "        return 1\n",
    "    else:\n",
    "        return n*fact(n-1)\n",
    "n=int(input())\n",
    "print(f\"factorial of {n} is {fact(n)}\")\n",
    "\n"
   ]
  },
  {
   "cell_type": "code",
   "execution_count": null,
   "id": "fbe1d500-5c93-4955-b634-dcaf7abbd236",
   "metadata": {},
   "outputs": [],
   "source": [
    "#reverse a string\n",
    "s=input()\n",
    "rev=\"\"\n",
    "for i in s:\n",
    "    rev=i+rev\n",
    "print(rev)\n",
    "#rev string with slice\n",
    "s=input()\n",
    "rev=s[::-1]\n",
    "print(rev)"
   ]
  },
  {
   "cell_type": "code",
   "execution_count": 14,
   "id": "d79b1db7-cf13-4b3a-a383-d16191d3beb7",
   "metadata": {},
   "outputs": [
    {
     "name": "stdin",
     "output_type": "stream",
     "text": [
      " 7578\n"
     ]
    },
    {
     "name": "stdout",
     "output_type": "stream",
     "text": [
      "8757\n"
     ]
    }
   ],
   "source": [
    "#reverese a number\n",
    "n=int(input())\n",
    "rev=0\n",
    "while n>0:\n",
    "    digit=n%10\n",
    "    rev=rev*10+digit\n",
    "    n//=10\n",
    "print(rev)"
   ]
  },
  {
   "cell_type": "code",
   "execution_count": 19,
   "id": "843a0683-c64c-4615-94e0-9ec73ef537df",
   "metadata": {},
   "outputs": [
    {
     "name": "stdin",
     "output_type": "stream",
     "text": [
      " 3434\n"
     ]
    },
    {
     "name": "stdout",
     "output_type": "stream",
     "text": [
      " not Palindrome\n"
     ]
    }
   ],
   "source": [
    "## palindrome or not\n",
    "n=int(input())\n",
    "rev=0\n",
    "temp=n\n",
    "while(n>0):\n",
    "    digit=n%10\n",
    "    rev=rev*10+digit\n",
    "    n//=10\n",
    "if temp==rev:\n",
    "    print(\"Palindrome\")\n",
    "else:\n",
    "    print(\" not Palindrome\")"
   ]
  },
  {
   "cell_type": "code",
   "execution_count": 3,
   "id": "a9de8cc8-c832-4719-9234-da0b8e2a58fa",
   "metadata": {},
   "outputs": [
    {
     "name": "stdin",
     "output_type": "stream",
     "text": [
      " madhu\n"
     ]
    },
    {
     "name": "stdout",
     "output_type": "stream",
     "text": [
      "2\n",
      "3\n"
     ]
    }
   ],
   "source": [
    "#vowels and consonants count\n",
    "s=input()\n",
    "vowels=\"aeiouAEIOU\"\n",
    "vowels_count=0\n",
    "consonants_count=0\n",
    "for i in s:\n",
    "    if (\"a\"<=i<=\"z\") or (\"A\"<=i<=\"Z\"):\n",
    "        if i in vowels:\n",
    "            vowels_count+=1\n",
    "        else:\n",
    "            consonants_count+=1\n",
    "print(vowels_count)\n",
    "print(consonants_count)"
   ]
  },
  {
   "cell_type": "code",
   "execution_count": 3,
   "id": "3580a380-f5c3-400d-8ffd-c2ad6b4dc7f7",
   "metadata": {},
   "outputs": [
    {
     "name": "stdin",
     "output_type": "stream",
     "text": [
      " madam\n"
     ]
    },
    {
     "name": "stdout",
     "output_type": "stream",
     "text": [
      "Given string is Palindrome\n"
     ]
    }
   ],
   "source": [
    "#given string is palindrome or not\n",
    "def is_palindrome(text):\n",
    "    return text==text[::-1]\n",
    "s=input()\n",
    "if s==s[::-1]:\n",
    "    print(\"Given string is Palindrome\")\n",
    "else:\n",
    "    print(\"Given string is Not palindrome\")"
   ]
  },
  {
   "cell_type": "code",
   "execution_count": null,
   "id": "ed9e75ab-6efd-4183-875e-c71ffcaae769",
   "metadata": {},
   "outputs": [],
   "source": []
  }
 ],
 "metadata": {
  "kernelspec": {
   "display_name": "Python 3 (ipykernel)",
   "language": "python",
   "name": "python3"
  },
  "language_info": {
   "codemirror_mode": {
    "name": "ipython",
    "version": 3
   },
   "file_extension": ".py",
   "mimetype": "text/x-python",
   "name": "python",
   "nbconvert_exporter": "python",
   "pygments_lexer": "ipython3",
   "version": "3.13.5"
  }
 },
 "nbformat": 4,
 "nbformat_minor": 5
}
